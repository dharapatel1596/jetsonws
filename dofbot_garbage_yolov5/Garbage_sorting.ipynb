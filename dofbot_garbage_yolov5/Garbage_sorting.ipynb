{
 "cells": [
  {
   "cell_type": "markdown",
   "metadata": {},
   "source": [
    "# Garbage_sorting"
   ]
  },
  {
   "cell_type": "markdown",
   "metadata": {},
   "source": [
    "### Import head file"
   ]
  },
  {
   "cell_type": "code",
   "execution_count": null,
   "metadata": {},
   "outputs": [],
   "source": [
    "#!/usr/bin/env python\n",
    "# coding: utf-8\n",
    "import Arm_Lib\n",
    "import cv2 as cv\n",
    "import threading\n",
    "from time import sleep\n",
    "from dofbot_config import *\n",
    "import ipywidgets as widgets\n",
    "from IPython.display import display\n",
    "from garbage_identify import garbage_identify"
   ]
  },
  {
   "cell_type": "markdown",
   "metadata": {},
   "source": [
    "### Create the instance and initialize the parameters"
   ]
  },
  {
   "cell_type": "code",
   "execution_count": null,
   "metadata": {},
   "outputs": [],
   "source": [
    "\n",
    "target = garbage_identify()\n",
    "\n",
    "calibration = Arm_Calibration()\n",
    "\n",
    "arm = Arm_Lib.Arm_Device()\n",
    "\n",
    "num=0\n",
    "\n",
    "dp = []\n",
    "\n",
    "msg = {}\n",
    "\n",
    "xy = [90, 135]\n",
    "\n",
    "threshold = 140\n",
    "\n",
    "model = \"General\"\n",
    "\n",
    "XYT_path=\"/home/jetson/dofbot_ws/src/dofbot_garbage_yolov5/XYT_config.txt\"\n",
    "try: xy, thresh = read_XYT(XYT_path)\n",
    "except Exception: print(\"Read XYT_config Error !!!\")"
   ]
  },
  {
   "cell_type": "markdown",
   "metadata": {},
   "source": [
    "### Initialize DOFBOT position"
   ]
  },
  {
   "cell_type": "code",
   "execution_count": null,
   "metadata": {},
   "outputs": [],
   "source": [
    "import Arm_Lib\n",
    "arm = Arm_Lib.Arm_Device()\n",
    "joints_0 = [xy[0], xy[1], 0, 0, 90, 30]\n",
    "arm.Arm_serial_servo_write6_array(joints_0, 1000)"
   ]
  },
  {
   "cell_type": "markdown",
   "metadata": {},
   "source": [
    "### Create controls"
   ]
  },
  {
   "cell_type": "code",
   "execution_count": null,
   "metadata": {},
   "outputs": [],
   "source": [
    "button_layout      = widgets.Layout(width='320px', height='60px', align_self='center')\n",
    "output = widgets.Output()\n",
    "# Adjust the slider\n",
    "joint1_slider      = widgets.IntSlider(description='joint1 :'   ,    value=xy[0]     , min=70 , max=110, step=1, orientation='horizontal')\n",
    "joint2_slider      = widgets.IntSlider(description='joint2 :'   ,    value=xy[1]     , min=115, max=155, step=1, orientation='horizontal')\n",
    "threshold_slider   = widgets.IntSlider(description='threshold :',    value=threshold , min=0  , max=255, step=1, orientation='horizontal')\n",
    "\n",
    "# Enter calibration mode\n",
    "calibration_model  = widgets.Button(description='calibration_model',  button_style='primary', layout=button_layout)\n",
    "calibration_ok     = widgets.Button(description='calibration_ok',     button_style='success', layout=button_layout)\n",
    "calibration_cancel = widgets.Button(description='calibration_cancel', button_style='danger', layout=button_layout)\n",
    "\n",
    "# Target detection and capture\n",
    "target_detection   = widgets.Button(description='target_detection', button_style='info', layout=button_layout)\n",
    "grap = widgets.Button(description='grap', button_style='success', layout=button_layout)\n",
    "# Exit\n",
    "exit_button = widgets.Button(description='Exit', button_style='danger', layout=button_layout)\n",
    "imgbox = widgets.Image(format='jpg', height=480, width=640, layout=widgets.Layout(align_self='center'))\n",
    "garbage_identify = widgets.VBox(\n",
    "    [joint1_slider, joint2_slider, threshold_slider, calibration_model, calibration_ok, calibration_cancel, target_detection, grap,exit_button],\n",
    "    layout=widgets.Layout(align_self='center'));\n",
    "controls_box = widgets.HBox([imgbox, garbage_identify], layout=widgets.Layout(align_self='center'))"
   ]
  },
  {
   "cell_type": "markdown",
   "metadata": {},
   "source": [
    "### Calibration correction"
   ]
  },
  {
   "cell_type": "code",
   "execution_count": null,
   "metadata": {},
   "outputs": [],
   "source": [
    "# Calibration correction\n",
    "def calibration_model_Callback(value):\n",
    "    global model\n",
    "    model = 'Calibration'\n",
    "    with output: print(model)\n",
    "def calibration_OK_Callback(value):\n",
    "    global model\n",
    "    model = 'calibration_OK'\n",
    "    with output: print(model)\n",
    "def calibration_cancel_Callback(value):\n",
    "    global model\n",
    "    model = 'calibration_Cancel'\n",
    "    with output: print(model)\n",
    "calibration_model.on_click(calibration_model_Callback)\n",
    "calibration_ok.on_click(calibration_OK_Callback)\n",
    "calibration_cancel.on_click(calibration_cancel_Callback)"
   ]
  },
  {
   "cell_type": "markdown",
   "metadata": {},
   "source": [
    "### Mode switching controls"
   ]
  },
  {
   "cell_type": "code",
   "execution_count": null,
   "metadata": {},
   "outputs": [],
   "source": [
    "def target_detection_Callback(value):\n",
    "    global model\n",
    "    model = 'Detection'\n",
    "    with output: print(model)\n",
    "def grap_Callback(value):\n",
    "    global model\n",
    "    model = 'Grap'\n",
    "    with output: print(model)\n",
    "def exit_button_Callback(value):\n",
    "    global model\n",
    "    model = 'Exit'\n",
    "    with output: print(model)\n",
    "target_detection.on_click(target_detection_Callback)\n",
    "grap.on_click(grap_Callback)\n",
    "exit_button.on_click(exit_button_Callback)"
   ]
  },
  {
   "cell_type": "markdown",
   "metadata": {},
   "source": [
    "### Main process"
   ]
  },
  {
   "cell_type": "code",
   "execution_count": null,
   "metadata": {},
   "outputs": [],
   "source": [
    "def camera():\n",
    "    global color_hsv,model,dp,msg,color_list,HSV_name\n",
    "    # Open camera\n",
    "    capture = cv.VideoCapture(0)\n",
    "    # Be executed in loop when the camera is opened normally \n",
    "    while capture.isOpened():\n",
    "        try:\n",
    "\n",
    "            _, img = capture.read()\n",
    "\n",
    "            img = cv.resize(img, (640, 480))\n",
    "            xy=[joint1_slider.value,joint2_slider.value]\n",
    "            if model == 'Calibration':\n",
    "                _, img = calibration.calibration_map(img,xy,threshold_slider.value)\n",
    "            if model == 'calibration_OK':\n",
    "                try: write_XYT(XYT_path,xy, threshold_slider.value)\n",
    "                except Exception: print(\"File XYT_config Error !!!\")\n",
    "                dp, img = calibration.calibration_map(img,xy,threshold_slider.value)\n",
    "                model=\"General\"\n",
    "            if len(dp) != 0: img = calibration.Perspective_transform(dp, img)\n",
    "            if model == 'calibration_Cancel':  \n",
    "                dp = []\n",
    "                msg= {}\n",
    "                model=\"General\"\n",
    "            if len(dp)!= 0 and  model == 'Detection': img, msg = target.garbage_run(img)\n",
    "            if len(msg)!= 0 and model == 'Grap':\n",
    "                threading.Thread(target=target.garbage_grap, args=(msg, xy,)).start()\n",
    "                msg={}\n",
    "                model=\"Detection\"\n",
    "            if model == 'Exit':\n",
    "                cv.destroyAllWindows()\n",
    "                capture.release()\n",
    "                break\n",
    "            imgbox.value = cv.imencode('.jpg', img)[1].tobytes()\n",
    "        except KeyboardInterrupt:capture.release()"
   ]
  },
  {
   "cell_type": "markdown",
   "metadata": {},
   "source": [
    "### Start"
   ]
  },
  {
   "cell_type": "code",
   "execution_count": null,
   "metadata": {},
   "outputs": [],
   "source": [
    "display(controls_box,output)\n",
    "threading.Thread(target=camera, ).start()"
   ]
  },
  {
   "cell_type": "code",
   "execution_count": null,
   "metadata": {},
   "outputs": [],
   "source": []
  }
 ],
 "metadata": {
  "kernelspec": {
   "display_name": "Python 3",
   "language": "python",
   "name": "python3"
  },
  "language_info": {
   "codemirror_mode": {
    "name": "ipython",
    "version": 3
   },
   "file_extension": ".py",
   "mimetype": "text/x-python",
   "name": "python",
   "nbconvert_exporter": "python",
   "pygments_lexer": "ipython3",
   "version": "3.6.9"
  }
 },
 "nbformat": 4,
 "nbformat_minor": 4
}
