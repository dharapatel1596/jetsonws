{
 "cells": [
  {
   "cell_type": "markdown",
   "metadata": {},
   "source": [
    "# Color_tracking"
   ]
  },
  {
   "cell_type": "markdown",
   "metadata": {},
   "source": [
    "### Import head file"
   ]
  },
  {
   "cell_type": "code",
   "execution_count": null,
   "metadata": {},
   "outputs": [],
   "source": [
    "import cv2 as cv\n",
    "import threading\n",
    "import random\n",
    "from time import sleep\n",
    "import ipywidgets as widgets\n",
    "from IPython.display import display\n",
    "from color_follow import color_follow"
   ]
  },
  {
   "cell_type": "markdown",
   "metadata": {},
   "source": [
    "### Initialize DOFBOT position"
   ]
  },
  {
   "cell_type": "code",
   "execution_count": null,
   "metadata": {},
   "outputs": [],
   "source": [
    "import Arm_Lib\n",
    "Arm = Arm_Lib.Arm_Device()\n",
    "joints_0 = [90, 135, 20, 25, 90, 30]\n",
    "Arm.Arm_serial_servo_write6_array(joints_0, 1000)"
   ]
  },
  {
   "cell_type": "markdown",
   "metadata": {},
   "source": [
    "### Create the instance and initialize the parameters"
   ]
  },
  {
   "cell_type": "code",
   "execution_count": null,
   "metadata": {},
   "outputs": [],
   "source": [
    "follow = color_follow()\n",
    "model = 'General'\n",
    "HSV_learning = ()\n",
    "color_hsv = {\"red\": ((0, 25, 90), (10, 255, 255)),\n",
    "             \"green\": ((53, 36, 40), (80, 255, 255)),\n",
    "             \"blue\": ((110, 80, 90), (120, 255, 255)),\n",
    "             \"yellow\": ((25, 20, 55), (50, 255, 255))}\n",
    "\n",
    "color = [[random.randint(0, 255) for _ in range(3)] for _ in range(255)]\n",
    "\n",
    "HSV_path=\"/home/jetson/dofbot_ws/src/dofbot_color_follow/HSV_config.txt\"\n",
    "try: read_HSV(HSV_path,color_hsv)\n",
    "except Exception: print(\"Read HSV_config Error !!!\")"
   ]
  },
  {
   "cell_type": "markdown",
   "metadata": {},
   "source": [
    "### Creating controls"
   ]
  },
  {
   "cell_type": "code",
   "execution_count": null,
   "metadata": {},
   "outputs": [],
   "source": [
    "button_layout = widgets.Layout(width='200px', height='100px', align_self='center')\n",
    "\n",
    "output = widgets.Output()\n",
    "\n",
    "color_follow = widgets.Button(description='color_follow', button_style='success', layout=button_layout)\n",
    "\n",
    "choose_color = widgets.ToggleButtons(options=['red', 'green', 'blue', 'yellow'], button_style='success',\n",
    "             tooltips=['Description of slow', 'Description of regular', 'Description of fast'])\n",
    "\n",
    "follow_cancel = widgets.Button(description='follow_cancel', button_style='danger', layout=button_layout)\n",
    "\n",
    "learning_color = widgets.Button(description='learning_color', button_style='primary', layout=button_layout)\n",
    "\n",
    "learning_follow = widgets.Button(description='learning_follow', button_style='success', layout=button_layout)\n",
    "\n",
    "exit_button = widgets.Button(description='Exit', button_style='danger', layout=button_layout)\n",
    "\n",
    "imgbox = widgets.Image(format='jpg', height=480, width=640, layout=widgets.Layout(align_self='auto'))\n",
    "\n",
    "img_box = widgets.VBox([imgbox, choose_color], layout=widgets.Layout(align_self='auto'))\n",
    "\n",
    "Slider_box = widgets.VBox([color_follow, learning_color, learning_follow,follow_cancel,exit_button],\n",
    "                          layout=widgets.Layout(align_self='auto'))\n",
    "\n",
    "controls_box = widgets.HBox([img_box, Slider_box], layout=widgets.Layout(align_self='auto'))\n",
    "# ['auto', 'flex-start', 'flex-end', 'center', 'baseline', 'stretch', 'inherit', 'initial', 'unset']"
   ]
  },
  {
   "cell_type": "markdown",
   "metadata": {},
   "source": [
    "### Switch mode"
   ]
  },
  {
   "cell_type": "code",
   "execution_count": null,
   "metadata": {},
   "outputs": [],
   "source": [
    "def color_follow_Callback(value):\n",
    "    global model\n",
    "    model = 'color_follow'\n",
    "def learning_color_Callback(value):\n",
    "    global model\n",
    "    model = 'learning_color'\n",
    "def learning_follow_Callback(value):\n",
    "    global model\n",
    "    model = 'learning_follow'\n",
    "def follow_cancel_Callback(value):\n",
    "    global model\n",
    "    model = 'General'\n",
    "def exit_button_Callback(value):\n",
    "    global model\n",
    "    model = 'Exit'\n",
    "color_follow.on_click(color_follow_Callback)\n",
    "learning_color.on_click(learning_color_Callback)\n",
    "learning_follow.on_click(learning_follow_Callback)\n",
    "follow_cancel.on_click(follow_cancel_Callback)\n",
    "exit_button.on_click(exit_button_Callback)"
   ]
  },
  {
   "cell_type": "markdown",
   "metadata": {},
   "source": [
    "### Main process"
   ]
  },
  {
   "cell_type": "code",
   "execution_count": null,
   "metadata": {},
   "outputs": [],
   "source": [
    "def camera():\n",
    "    global HSV_learning,model\n",
    "    # Open camera\n",
    "    capture = cv.VideoCapture(0)\n",
    "    capture.set(3, 640)\n",
    "    capture.set(4, 480)\n",
    "    capture.set(5, 30)  #set frame\n",
    "    # Be executed in loop when the camera is opened normally \n",
    "    while capture.isOpened():\n",
    "        try:\n",
    "\n",
    "            _, img = capture.read()\n",
    "\n",
    "            img = cv.resize(img, (640, 480))\n",
    "#             cv.line(img, (320, 0), (320, 480), color=(0, 255, 0), thickness=1)\n",
    "#             cv.line(img, (0, 240), (640, 240), color=(0, 255, 0), thickness=1)\n",
    "            if model == 'color_follow':\n",
    "                img = follow.follow_function(img, color_hsv[choose_color.value])\n",
    "\n",
    "                cv.putText(img, choose_color.value, (int(img.shape[0] / 2), 50), cv.FONT_HERSHEY_SIMPLEX, 2, color[random.randint(0, 254)], 2)\n",
    "            if model == 'learning_color':\n",
    "                img,HSV_learning = follow.get_hsv(img)\n",
    "            if model == 'learning_follow' :\n",
    "                if len(HSV_learning)!=0:\n",
    "                    print(HSV_learning)\n",
    "                    img = follow.learning_follow(img, HSV_learning)\n",
    "\n",
    "                    cv.putText(img,'LeColor', (240, 50), cv.FONT_HERSHEY_SIMPLEX, 1, color[random.randint(0, 254)], 1)\n",
    "            if model == 'Exit':\n",
    "                cv.destroyAllWindows()\n",
    "                capture.release()\n",
    "                break\n",
    "            imgbox.value = cv.imencode('.jpg', img)[1].tobytes()\n",
    "        except KeyboardInterrupt:capture.release()"
   ]
  },
  {
   "cell_type": "markdown",
   "metadata": {},
   "source": [
    "### Start"
   ]
  },
  {
   "cell_type": "code",
   "execution_count": null,
   "metadata": {},
   "outputs": [],
   "source": [
    "display(controls_box,output)\n",
    "threading.Thread(target=camera, ).start()"
   ]
  },
  {
   "cell_type": "markdown",
   "metadata": {},
   "source": [
    "##### "
   ]
  }
 ],
 "metadata": {
  "kernelspec": {
   "display_name": "Python 3",
   "language": "python",
   "name": "python3"
  },
  "language_info": {
   "codemirror_mode": {
    "name": "ipython",
    "version": 3
   },
   "file_extension": ".py",
   "mimetype": "text/x-python",
   "name": "python",
   "nbconvert_exporter": "python",
   "pygments_lexer": "ipython3",
   "version": "3.6.9"
  }
 },
 "nbformat": 4,
 "nbformat_minor": 4
}
