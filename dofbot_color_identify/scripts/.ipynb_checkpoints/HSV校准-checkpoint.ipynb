{
 "cells": [
  {
   "cell_type": "markdown",
   "metadata": {},
   "source": [
    "# HSV校准"
   ]
  },
  {
   "cell_type": "markdown",
   "metadata": {},
   "source": [
    "### 导入头文件"
   ]
  },
  {
   "cell_type": "code",
   "execution_count": null,
   "metadata": {},
   "outputs": [],
   "source": [
    "#!/usr/bin/env python\n",
    "# coding: utf-8\n",
    "import threading\n",
    "import cv2 as cv\n",
    "from time import sleep\n",
    "from dofbot_config import *\n",
    "import ipywidgets as widgets\n",
    "from IPython.display import display"
   ]
  },
  {
   "cell_type": "markdown",
   "metadata": {},
   "source": [
    "### 创建实例,初始化参数"
   ]
  },
  {
   "cell_type": "code",
   "execution_count": null,
   "metadata": {},
   "outputs": [],
   "source": [
    "# 创建更新HSV实例\n",
    "update_hsv = update_hsv()\n",
    "# 初始化num参数\n",
    "num=0\n",
    "# 初始化模式\n",
    "model = \"General\"\n",
    "# 初始化HSV名称\n",
    "HSV_name=None\n",
    "# 初始化HSV值\n",
    "color_hsv  = {\"red\"   : ((0, 43, 46), (10, 255, 255)),\n",
    "              \"green\" : ((35, 43, 46), (77, 255, 255)),\n",
    "              \"blue\"  : ((100, 43, 46), (124, 255, 255)),\n",
    "              \"yellow\": ((26, 43, 46), (34, 255, 255))}\n",
    "# 设置随机颜色\n",
    "color = [[random.randint(0, 255) for _ in range(3)] for _ in range(255)]\n",
    "# HSV参数路径\n",
    "HSV_path=\"/home/jetson/dofbot_ws/src/dofbot_color_identify/scripts/HSV_config.txt\"\n",
    "# 读取HSV配置文件,更新HSV值\n",
    "try: read_HSV(HSV_path,color_hsv)\n",
    "except Exception: print(\"Read HSV_config Error!!!\")"
   ]
  },
  {
   "cell_type": "markdown",
   "metadata": {},
   "source": [
    "### 初始化机械臂位置"
   ]
  },
  {
   "cell_type": "code",
   "execution_count": null,
   "metadata": {},
   "outputs": [],
   "source": [
    "import Arm_Lib\n",
    "Arm = Arm_Lib.Arm_Device()\n",
    "joints_0 = [90, 135, 0, 0, 90, 30]\n",
    "Arm.Arm_serial_servo_write6_array(joints_0, 1000)"
   ]
  },
  {
   "cell_type": "markdown",
   "metadata": {},
   "source": [
    "### 创建控件"
   ]
  },
  {
   "cell_type": "code",
   "execution_count": null,
   "metadata": {},
   "outputs": [],
   "source": [
    "# 创建布局\n",
    "button_layout      = widgets.Layout(width='260px', height='40px', align_self='center')\n",
    "# 输出部件\n",
    "output = widgets.Output()\n",
    "# 进入颜色更新模式\n",
    "HSV_update_red     = widgets.Button(description='HSV_update_red',    button_style='success', layout=button_layout)\n",
    "HSV_update_green   = widgets.Button(description='HSV_update_green',  button_style='success', layout=button_layout)\n",
    "HSV_update_blue    = widgets.Button(description='HSV_update_blue',   button_style='success', layout=button_layout)\n",
    "HSV_update_yellow  = widgets.Button(description='HSV_update_yellow', button_style='success', layout=button_layout)\n",
    "HSV_write_file     = widgets.Button(description='HSV_write_file',    button_style='primary', layout=button_layout)\n",
    "Color_Binary       = widgets.Button(description='Color/Binary',      button_style='info',    layout=button_layout)\n",
    "# 调整滑杆\n",
    "H_min_slider       = widgets.IntSlider(description='H_min :', value=0, min=0, max=255, step=1, orientation='horizontal')\n",
    "S_min_slider       = widgets.IntSlider(description='S_min :', value=43, min=0, max=255, step=1, orientation='horizontal')\n",
    "V_min_slider       = widgets.IntSlider(description='V_min :', value=46, min=0, max=255, step=1, orientation='horizontal')\n",
    "H_max_slider       = widgets.IntSlider(description='H_max :', value=10, min=0, max=255, step=1, orientation='horizontal')\n",
    "S_max_slider       = widgets.IntSlider(description='S_max :', value=255, min=0, max=255, step=1, orientation='horizontal')\n",
    "V_max_slider       = widgets.IntSlider(description='V_max :', value=255, min=0, max=255, step=1, orientation='horizontal')\n",
    "# 退出按钮\n",
    "exit_button = widgets.Button(description='Exit', button_style='danger', layout=button_layout)\n",
    "# 图像控件\n",
    "imgbox = widgets.Image(format='jpg', height=480, width=640, layout=widgets.Layout(align_self='center'))\n",
    "# 调试按钮布局\n",
    "HSV_slider = widgets.VBox(\n",
    "    [H_min_slider, S_min_slider, V_min_slider, H_max_slider, S_max_slider, V_max_slider, HSV_update_red,\n",
    "     HSV_update_green, HSV_update_blue, HSV_update_yellow, Color_Binary,HSV_write_file, exit_button],\n",
    "    layout=widgets.Layout(align_self='center'))\n",
    "# 整体布局\n",
    "controls_box = widgets.HBox([imgbox,HSV_slider], layout=widgets.Layout(align_self='center'))"
   ]
  },
  {
   "cell_type": "markdown",
   "metadata": {},
   "source": [
    "### 颜色更新回调"
   ]
  },
  {
   "cell_type": "code",
   "execution_count": null,
   "metadata": {},
   "outputs": [],
   "source": [
    "def update_red_Callback(value):\n",
    "    # 点击红色按钮,回调函数\n",
    "    global HSV_name\n",
    "    HSV_name = \"red\"\n",
    "    H_min_slider.value=color_hsv[HSV_name][0][0]\n",
    "    S_min_slider.value=color_hsv[HSV_name][0][1]\n",
    "    V_min_slider.value=color_hsv[HSV_name][0][2]\n",
    "    H_max_slider.value=color_hsv[HSV_name][1][0]\n",
    "    S_max_slider.value=color_hsv[HSV_name][1][1]\n",
    "    V_max_slider.value=color_hsv[HSV_name][1][2]\n",
    "def update_green_Callback(value):\n",
    "    # 点击绿色按钮,回调函数\n",
    "    global HSV_name\n",
    "    HSV_name = \"green\"\n",
    "    H_min_slider.value=color_hsv[HSV_name][0][0]\n",
    "    S_min_slider.value=color_hsv[HSV_name][0][1]\n",
    "    V_min_slider.value=color_hsv[HSV_name][0][2]\n",
    "    H_max_slider.value=color_hsv[HSV_name][1][0]\n",
    "    S_max_slider.value=color_hsv[HSV_name][1][1]\n",
    "    V_max_slider.value=color_hsv[HSV_name][1][2]\n",
    "def update_blue_Callback(value):\n",
    "    # 点击蓝色按钮,回调函数\n",
    "    global HSV_name\n",
    "    HSV_name = \"blue\"\n",
    "    H_min_slider.value=color_hsv[HSV_name][0][0]\n",
    "    S_min_slider.value=color_hsv[HSV_name][0][1]\n",
    "    V_min_slider.value=color_hsv[HSV_name][0][2]\n",
    "    H_max_slider.value=color_hsv[HSV_name][1][0]\n",
    "    S_max_slider.value=color_hsv[HSV_name][1][1]\n",
    "    V_max_slider.value=color_hsv[HSV_name][1][2]\n",
    "def update_yellow_Callback(value):\n",
    "    # 点击黄色按钮,回调函数\n",
    "    global HSV_name\n",
    "    HSV_name = \"yellow\"\n",
    "    H_min_slider.value=color_hsv[HSV_name][0][0]\n",
    "    S_min_slider.value=color_hsv[HSV_name][0][1]\n",
    "    V_min_slider.value=color_hsv[HSV_name][0][2]\n",
    "    H_max_slider.value=color_hsv[HSV_name][1][0]\n",
    "    S_max_slider.value=color_hsv[HSV_name][1][1]\n",
    "    V_max_slider.value=color_hsv[HSV_name][1][2]\n",
    "# 点击按钮\n",
    "HSV_update_red.on_click(update_red_Callback)\n",
    "HSV_update_green.on_click(update_green_Callback)\n",
    "HSV_update_blue.on_click(update_blue_Callback)\n",
    "HSV_update_yellow.on_click(update_yellow_Callback)"
   ]
  },
  {
   "cell_type": "markdown",
   "metadata": {},
   "source": [
    "### 模式切换控件"
   ]
  },
  {
   "cell_type": "code",
   "execution_count": null,
   "metadata": {},
   "outputs": [],
   "source": [
    "# 模式设置\n",
    "def write_file_Callback(value):\n",
    "    global model\n",
    "    model = 'Write_file'\n",
    "def Color_Binary_Callback(value):\n",
    "    global model,num\n",
    "    if num%2==0: model=\"Binary\"\n",
    "    if num%2==1: model=\"General\"\n",
    "    num+=1\n",
    "def exit_button_Callback(value):\n",
    "    global model\n",
    "    model = 'Exit'\n",
    "    with output: print(model)\n",
    "# 点击按钮\n",
    "HSV_write_file.on_click(write_file_Callback)\n",
    "Color_Binary.on_click(Color_Binary_Callback)\n",
    "exit_button.on_click(exit_button_Callback)"
   ]
  },
  {
   "cell_type": "markdown",
   "metadata": {},
   "source": [
    "### 摄像头函数"
   ]
  },
  {
   "cell_type": "code",
   "execution_count": null,
   "metadata": {},
   "outputs": [],
   "source": [
    "def camera():\n",
    "    global HSV_name,model,color_hsv,num\n",
    "    # 打开摄像头\n",
    "    capture = cv.VideoCapture(0)\n",
    "    # 当摄像头正常打开的情况下循环执行\n",
    "    while capture.isOpened():\n",
    "        try:\n",
    "            # 读取相机的每一帧\n",
    "            _, img = capture.read()\n",
    "            # 统一图像大小\n",
    "            img = cv.resize(img, (640, 480))\n",
    "            if HSV_name!=None:\n",
    "                # 添加文字\n",
    "                cv.putText(img, HSV_name, (int(img.shape[0] / 2)+40, 50), cv.FONT_HERSHEY_SIMPLEX, 2, color[random.randint(0, 254)], 2)\n",
    "                # 实时修改颜色的HSV值\n",
    "                color_hsv[HSV_name] = ((H_min_slider.value, S_min_slider.value, V_min_slider.value), (H_max_slider.value, S_max_slider.value, V_max_slider.value))\n",
    "                # 轮廓检测\n",
    "                img, binary = update_hsv.get_contours(img, HSV_name, color_hsv[HSV_name],color_hsv)\n",
    "                if model == \"Binary\":\n",
    "                    # 二值图显示\n",
    "                    _, img = update_hsv.get_contours(img, HSV_name, color_hsv[HSV_name],color_hsv)\n",
    "                if model == 'Write_file':\n",
    "                    # 写入文件\n",
    "                    try: write_HSV(HSV_path,color_hsv)\n",
    "                    except Exception: print(\"File Path Error!!!\")\n",
    "                    # 所有颜色取反\n",
    "                    cv.bitwise_not(img, img)\n",
    "                    num=0\n",
    "                    model=\"General\"\n",
    "            if model == 'Exit':\n",
    "                # 退出程序\n",
    "                cv.destroyAllWindows()\n",
    "                capture.release()\n",
    "                break\n",
    "            # 图像格式转换\n",
    "            imgbox.value = cv.imencode('.jpg', img)[1].tobytes()\n",
    "        except KeyboardInterrupt:\n",
    "            capture.release()"
   ]
  },
  {
   "cell_type": "markdown",
   "metadata": {},
   "source": [
    "### 显示"
   ]
  },
  {
   "cell_type": "code",
   "execution_count": null,
   "metadata": {},
   "outputs": [],
   "source": [
    "# 显示布局\n",
    "display(controls_box,output)\n",
    "# 开启图像线程\n",
    "threading.Thread(target=camera, ).start()"
   ]
  },
  {
   "cell_type": "code",
   "execution_count": null,
   "metadata": {},
   "outputs": [],
   "source": []
  }
 ],
 "metadata": {
  "kernelspec": {
   "display_name": "Python 3",
   "language": "python",
   "name": "python3"
  },
  "language_info": {
   "codemirror_mode": {
    "name": "ipython",
    "version": 3
   },
   "file_extension": ".py",
   "mimetype": "text/x-python",
   "name": "python",
   "nbconvert_exporter": "python",
   "pygments_lexer": "ipython3",
   "version": "3.6.9"
  }
 },
 "nbformat": 4,
 "nbformat_minor": 4
}
